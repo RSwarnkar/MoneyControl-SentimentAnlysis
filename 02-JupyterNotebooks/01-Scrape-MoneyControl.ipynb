{
 "cells": [
  {
   "cell_type": "markdown",
   "id": "af6bae31-e372-499b-91da-d1cb9f2b8da0",
   "metadata": {},
   "source": [
    "# Scraping Moneycontrol.com"
   ]
  },
  {
   "cell_type": "markdown",
   "id": "6836eb12-4882-47c1-b277-0918cfffaff2",
   "metadata": {},
   "source": [
    "I think scraping is not working for MoneyControl. But I am short on time. So here is workaround. \n",
    "1. Visit: https://mmb.moneycontrol.com/. \n",
    "2. Find you suitable stock topic.\n",
    "3. Copy the stock topic number into URL: `https://api.moneycontrol.com/mcapi/v2/mmb/get-messages/?section=topic&sectionId=<Topic Number>&limitStart=10&limitCount=10`\n",
    "4. Example for `Kaynes Technology` its : `https://api.moneycontrol.com/mcapi/v2/mmb/get-messages/?section=topic&sectionId=512082&limitStart=10&limitCount=10`\n",
    "5. Visit the page in Chrome.\n",
    "6. Copy Json response in next notebook. "
   ]
  },
  {
   "cell_type": "code",
   "execution_count": 7,
   "id": "86c96f39-4579-400a-8215-57f01afb53a1",
   "metadata": {},
   "outputs": [],
   "source": [
    "import requests as rq"
   ]
  },
  {
   "cell_type": "code",
   "execution_count": 29,
   "id": "f42e97b1-f61b-47af-89ea-6682db9b943c",
   "metadata": {},
   "outputs": [
    {
     "name": "stdout",
     "output_type": "stream",
     "text": [
      "200\n"
     ]
    }
   ],
   "source": [
    "moneycontrol_forumpage = \"https://mmb.moneycontrol.com/\"\n",
    "moneycontrol_homepage = \"https://www.moneycontrol.com/\"\n",
    "\n",
    "\n",
    "# Define custom headers (like a browser might send)\n",
    "headers = {\n",
    "    \"accept\" : \"text/html,application/xhtml+xml,application/xml;q=0.9,image/avif,image/webp,image/apng,*/*;q=0.8,application/signed-exchange;v=b3;q=0.7\",\n",
    "    \"accept-encoding\" : \"gzip, deflate, br, zstd\",\n",
    "    \"accept-language\" : \"en-IN,en;q=0.9\",\n",
    "    \"dnt\" : \"1\",\n",
    "    \"priority\" : \"u=0, i\",\n",
    "    \"sec-ch-ua\" : \"\\\"Chromium\\\";v=\\\"136\\\", \\\"Google Chrome\\\";v=\\\"136\\\", \\\"Not.A/Brand\\\";v=\\\"99\\\"\",\n",
    "    \"sec-ch-ua-mobile\" : \"?0\",\n",
    "    \"sec-ch-ua-platform\" : \"\\\"Windows\\\"\",\n",
    "    \"sec-fetch-dest\" : \"document\",\n",
    "    \"sec-fetch-mode\" : \"navigate\",\n",
    "    \"sec-fetch-site\" : \"none\",\n",
    "    \"sec-fetch-user\" : \"?1\",\n",
    "    \"user-agent\" : \"Mozilla/5.0 (Windows NT 10.0; Win64; x64) AppleWebKit/537.36 (KHTML, like Gecko) Chrome/136.0.0.0 Safari/537.36\",\n",
    "    \"referer\": \"https://www.google.com/\"\n",
    "}\n",
    "\n",
    "\n",
    "response01 = rq.get(moneycontrol_homepage, headers=headers, allow_redirects=True)\n",
    "print(response01.status_code)"
   ]
  },
  {
   "cell_type": "code",
   "execution_count": 30,
   "id": "23d426c9-ab4a-4bbf-853f-7d75a6057fa7",
   "metadata": {},
   "outputs": [
    {
     "name": "stdout",
     "output_type": "stream",
     "text": [
      "{'Content-Type': 'text/html', 'X-GUploader-UploadID': 'AAO2VwoZQ-WTIikYgyCkq3DMZe5CUWvJ-9Q0tjNImr50GPfOun7UEzT3QnOpZjtp2aLdjxJlUS64cbo', 'Last-Modified': 'Sun, 25 May 2025 08:00:57 GMT', 'ETag': '\"f19e256d6f3007bb0bac10bd4f72e3a7\"', 'x-goog-generation': '1748160057264020', 'x-goog-metageneration': '1', 'x-goog-stored-content-encoding': 'identity', 'x-goog-stored-content-length': '1686500', 'x-goog-hash': 'crc32c=0Oj8oQ==, md5=8Z4lbW8wB7sLrBC9T3Ljpw==', 'x-amz-checksum-crc32c': '0Oj8oQ==', 'x-goog-storage-class': 'STANDARD', 'Accept-Ranges': 'bytes', 'Server': 'UploadServer', 'X-Akamai-Transformed': '9 - 0 pmb=mRUM,2', 'Vary': 'Accept-Encoding', 'Content-Encoding': 'br', 'Expires': 'Sun, 25 May 2025 08:01:46 GMT', 'Cache-Control': 'max-age=0, no-cache, no-store', 'Pragma': 'no-cache', 'Date': 'Sun, 25 May 2025 08:01:46 GMT', 'Transfer-Encoding': 'chunked', 'Connection': 'keep-alive, Transfer-Encoding', 'Server-Timing': 'cdn-cache; desc=HIT, edge; dur=1, ak_p; desc=\"1748160106910_387975532_627201811_27_6375_23_10_-\";dur=1', 'Access-Control-Max-Age': '86400', 'Access-Control-Allow-Credentials': 'false', 'Access-Control-Allow-Headers': '*', 'Access-Control-Allow-Methods': 'GET,POST', 'Access-Control-Allow-Origin': '*', 'Strict-Transport-Security': 'max-age=86400 ; preload'}\n"
     ]
    }
   ],
   "source": [
    "response_headers = response01.headers\n",
    "print(response_headers)"
   ]
  },
  {
   "cell_type": "code",
   "execution_count": 31,
   "id": "f71c485d-4438-4b37-a664-da6f63936bca",
   "metadata": {},
   "outputs": [
    {
     "name": "stdout",
     "output_type": "stream",
     "text": [
      "[]\n"
     ]
    }
   ],
   "source": [
    "cookies = response01.cookies\n",
    "print(cookies.items())"
   ]
  },
  {
   "cell_type": "code",
   "execution_count": 32,
   "id": "ec9ad1f4-7d24-4603-bee4-cc11833964ee",
   "metadata": {},
   "outputs": [
    {
     "name": "stdout",
     "output_type": "stream",
     "text": [
      "6flH'\u0019\u0007óbl*àùüºD·èQK¤Æa\u0012We³|Ùoó?Sw\u0007_:\u0013T\u0001ªReúL*Ä®<=Ø?³\u001fù\f",
      "_áeÖ`wµBËÀ\n",
      "ôÂIs\u0000ÑV«Õr¾-e\u0010(d\u0010ÚÞ\u0000Øß²^kUE\u0003S¯Rå.NÒnÊ8ÙGªü¨ßß ÂÃÆºÐc/\n",
      "j«kL\u0001£nK \u0011èV£}oJmãè!Bä¦t\u0010÷9dùß¹X/²¿ÛÐc-Äiu°ùþÒ(\"ü}¸\u0014\u0016ËqP!\u0016Ùþ2ÂäríÅÖÒxùã^íÂ\u0003,à&ûõÍ×ë\u001bÜ©£Äbõ°¥r\u0002o3¶_keöpR§\f",
      "·å\u0014lW\u0004¾JÉ  F>Y\n",
      "ÅÅ\u001c",
      "3[\u0017*z\u0004ú$°ü\u001f¨F0`\u0000º|-VÙF/ü EqÁ+É\tBT\u0002ÞM¸æ\u0002xúÀþå\u00005ÏgF8K5<oÐ}këd¹\f",
      "V¢+²mÍ{%Q;Æö\n",
      "¡¦ÉÐ~\t·|#DÀ²\u0003Ìæ¬ä³úóÉ8LÛC­\u0012\n"
     ]
    }
   ],
   "source": [
    "print(response01.text[:500])"
   ]
  },
  {
   "cell_type": "code",
   "execution_count": 33,
   "id": "dbc7f5de-d658-43e2-96b5-ba8cc9cf7517",
   "metadata": {},
   "outputs": [
    {
     "name": "stdout",
     "output_type": "stream",
     "text": [
      "None\n"
     ]
    }
   ],
   "source": [
    "print(response01.headers.get('Set-Cookie'))"
   ]
  },
  {
   "cell_type": "code",
   "execution_count": null,
   "id": "02ebce33-3303-4ee3-a84e-bf51d2598a30",
   "metadata": {},
   "outputs": [],
   "source": [
    "# !pip install cloudscraper\n",
    "# !pip install selenium"
   ]
  },
  {
   "cell_type": "code",
   "execution_count": 35,
   "id": "cfc8d66d-b609-4901-b28a-ddc45bb9ebdd",
   "metadata": {},
   "outputs": [
    {
     "name": "stdout",
     "output_type": "stream",
     "text": [
      "[]\n"
     ]
    }
   ],
   "source": [
    "import cloudscraper\n",
    "\n",
    "scraper = cloudscraper.create_scraper()  # returns a requests-like session\n",
    "response = scraper.get(\"https://www.moneycontrol.com/\")\n",
    "print(response.cookies.items())\n"
   ]
  },
  {
   "cell_type": "code",
   "execution_count": 37,
   "id": "4253def2-9760-4728-990f-afe4a0ee3a2c",
   "metadata": {},
   "outputs": [
    {
     "name": "stdout",
     "output_type": "stream",
     "text": [
      "[]\n"
     ]
    }
   ],
   "source": [
    "from selenium import webdriver\n",
    "from selenium.webdriver.chrome.options import Options\n",
    "\n",
    "options = Options()\n",
    "options.add_argument(\"--headless\")\n",
    "driver = webdriver.Chrome(options=options)\n",
    "driver.get(\"https://www.moneycontrol.com/\")\n",
    "\n",
    "# Wait a few seconds if cookies are set after a delay\n",
    "import time\n",
    "time.sleep(3)\n",
    "\n",
    "# Get cookies\n",
    "cookies = driver.get_cookies()\n",
    "print(cookies)\n",
    "\n",
    "driver.quit()\n"
   ]
  },
  {
   "cell_type": "code",
   "execution_count": null,
   "id": "e2673849-0022-4e1b-a97b-4e7daa403afa",
   "metadata": {},
   "outputs": [],
   "source": []
  }
 ],
 "metadata": {
  "kernelspec": {
   "display_name": "Python 3 (ipykernel)",
   "language": "python",
   "name": "python3"
  },
  "language_info": {
   "codemirror_mode": {
    "name": "ipython",
    "version": 3
   },
   "file_extension": ".py",
   "mimetype": "text/x-python",
   "name": "python",
   "nbconvert_exporter": "python",
   "pygments_lexer": "ipython3",
   "version": "3.11.4"
  }
 },
 "nbformat": 4,
 "nbformat_minor": 5
}
